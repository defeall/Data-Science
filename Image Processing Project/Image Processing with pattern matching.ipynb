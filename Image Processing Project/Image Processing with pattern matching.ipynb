{
 "cells": [
  {
   "cell_type": "code",
   "execution_count": 1,
   "metadata": {},
   "outputs": [],
   "source": [
    "import os\n",
    "import pandas as pd\n",
    "import cv2\n",
    "import numpy as np\n",
    "import PIL.Image as Image\n",
    "from sklearn.cluster import KMeans\n",
    "\n",
    "os.chdir('C:/Users/DELL/Desktop/Freelancing_DS/2/samples')"
   ]
  },
  {
   "cell_type": "code",
   "execution_count": 2,
   "metadata": {},
   "outputs": [],
   "source": [
    "file_list=os.listdir(r\"C:/Users/DELL/Desktop/Freelancing_DS/2/samples\")"
   ]
  },
  {
   "cell_type": "markdown",
   "metadata": {},
   "source": [
    "# Importing the Photos"
   ]
  },
  {
   "cell_type": "code",
   "execution_count": 3,
   "metadata": {},
   "outputs": [],
   "source": [
    "Name = file_list\n",
    "len_name = len(Name)"
   ]
  },
  {
   "cell_type": "markdown",
   "metadata": {},
   "source": [
    "# Class performing K-means Clustering"
   ]
  },
  {
   "cell_type": "code",
   "execution_count": 4,
   "metadata": {},
   "outputs": [],
   "source": [
    "class DominantColors:\n",
    "\n",
    "    CLUSTERS = None\n",
    "    IMAGE = None\n",
    "    COLORS = None\n",
    "    LABELS = None\n",
    "    \n",
    "    def __init__(self, image, clusters=3):\n",
    "        self.CLUSTERS = clusters\n",
    "        self.IMAGE = image\n",
    "        \n",
    "    def dominantColors(self):\n",
    "    \n",
    "        #read image\n",
    "        img = cv2.imread(self.IMAGE)\n",
    "        \n",
    "        #convert to rgb from bgr\n",
    "        img = cv2.cvtColor(img, cv2.COLOR_BGR2RGB)\n",
    "                \n",
    "        #reshaping to a list of pixels\n",
    "        img = img.reshape((img.shape[0] * img.shape[1], 3))\n",
    "        \n",
    "        #save image after operations\n",
    "        self.IMAGE = img\n",
    "        \n",
    "        #using k-means to cluster pixels\n",
    "        kmeans = KMeans(n_clusters = self.CLUSTERS)\n",
    "        kmeans.fit(img)\n",
    "        \n",
    "        #the cluster centers are our dominant colors.\n",
    "        self.COLORS = kmeans.cluster_centers_\n",
    "        \n",
    "        #save labels\n",
    "        self.LABELS = kmeans.labels_\n",
    "        \n",
    "        #returning after converting to integer from float\n",
    "        return self.COLORS.astype(int)"
   ]
  },
  {
   "cell_type": "code",
   "execution_count": 5,
   "metadata": {},
   "outputs": [],
   "source": [
    "#Using above class a data set is formed containing RGB values of the images\n",
    "R1, G1, B1, R2, G2, B2 = [], [], [], [], [], []\n",
    "for i in range(len_name):\n",
    "    img = Name[i]\n",
    "    clusters = 2\n",
    "    dc = DominantColors(img, clusters) \n",
    "    colors = dc.dominantColors()\n",
    "    \n",
    "    R1.append(int(colors[0][0]))\n",
    "    G1.append(int(colors[0][1]))\n",
    "    B1.append(int(colors[0][2]))\n",
    "    R2.append(int(colors[1][0]))\n",
    "    G2.append(int(colors[1][1]))\n",
    "    B2.append(int(colors[1][2]))"
   ]
  },
  {
   "cell_type": "code",
   "execution_count": 6,
   "metadata": {},
   "outputs": [],
   "source": [
    "data = pd.DataFrame({'Name':Name,'R1':R1,'G1':G1,'B1':B1,'R2':R2,'G2':G2,'B2':B2})"
   ]
  },
  {
   "cell_type": "code",
   "execution_count": 7,
   "metadata": {},
   "outputs": [
    {
     "data": {
      "text/plain": [
       "(243, 7)"
      ]
     },
     "execution_count": 7,
     "metadata": {},
     "output_type": "execute_result"
    }
   ],
   "source": [
    "data.shape"
   ]
  },
  {
   "cell_type": "code",
   "execution_count": 8,
   "metadata": {},
   "outputs": [
    {
     "data": {
      "text/html": [
       "<div>\n",
       "<style scoped>\n",
       "    .dataframe tbody tr th:only-of-type {\n",
       "        vertical-align: middle;\n",
       "    }\n",
       "\n",
       "    .dataframe tbody tr th {\n",
       "        vertical-align: top;\n",
       "    }\n",
       "\n",
       "    .dataframe thead th {\n",
       "        text-align: right;\n",
       "    }\n",
       "</style>\n",
       "<table border=\"1\" class=\"dataframe\">\n",
       "  <thead>\n",
       "    <tr style=\"text-align: right;\">\n",
       "      <th></th>\n",
       "      <th>Name</th>\n",
       "      <th>R1</th>\n",
       "      <th>G1</th>\n",
       "      <th>B1</th>\n",
       "      <th>R2</th>\n",
       "      <th>G2</th>\n",
       "      <th>B2</th>\n",
       "    </tr>\n",
       "  </thead>\n",
       "  <tbody>\n",
       "    <tr>\n",
       "      <th>0</th>\n",
       "      <td>1.jpg</td>\n",
       "      <td>174</td>\n",
       "      <td>3</td>\n",
       "      <td>40</td>\n",
       "      <td>198</td>\n",
       "      <td>4</td>\n",
       "      <td>42</td>\n",
       "    </tr>\n",
       "    <tr>\n",
       "      <th>1</th>\n",
       "      <td>10.jpg</td>\n",
       "      <td>0</td>\n",
       "      <td>87</td>\n",
       "      <td>3</td>\n",
       "      <td>5</td>\n",
       "      <td>111</td>\n",
       "      <td>23</td>\n",
       "    </tr>\n",
       "    <tr>\n",
       "      <th>2</th>\n",
       "      <td>1001 edit.jpg</td>\n",
       "      <td>172</td>\n",
       "      <td>172</td>\n",
       "      <td>172</td>\n",
       "      <td>150</td>\n",
       "      <td>150</td>\n",
       "      <td>150</td>\n",
       "    </tr>\n",
       "    <tr>\n",
       "      <th>3</th>\n",
       "      <td>1001 original.jpg</td>\n",
       "      <td>215</td>\n",
       "      <td>203</td>\n",
       "      <td>158</td>\n",
       "      <td>203</td>\n",
       "      <td>187</td>\n",
       "      <td>143</td>\n",
       "    </tr>\n",
       "    <tr>\n",
       "      <th>4</th>\n",
       "      <td>1002 edit.jpg</td>\n",
       "      <td>148</td>\n",
       "      <td>147</td>\n",
       "      <td>139</td>\n",
       "      <td>164</td>\n",
       "      <td>165</td>\n",
       "      <td>157</td>\n",
       "    </tr>\n",
       "  </tbody>\n",
       "</table>\n",
       "</div>"
      ],
      "text/plain": [
       "                Name   R1   G1   B1   R2   G2   B2\n",
       "0              1.jpg  174    3   40  198    4   42\n",
       "1             10.jpg    0   87    3    5  111   23\n",
       "2      1001 edit.jpg  172  172  172  150  150  150\n",
       "3  1001 original.jpg  215  203  158  203  187  143\n",
       "4      1002 edit.jpg  148  147  139  164  165  157"
      ]
     },
     "execution_count": 8,
     "metadata": {},
     "output_type": "execute_result"
    }
   ],
   "source": [
    "data.head()"
   ]
  },
  {
   "cell_type": "code",
   "execution_count": 9,
   "metadata": {},
   "outputs": [],
   "source": [
    "data.to_csv('RGB_data.csv')"
   ]
  },
  {
   "cell_type": "code",
   "execution_count": 10,
   "metadata": {},
   "outputs": [],
   "source": [
    "data = pd.read_csv(\"RGB_data.csv\", index_col = 0)"
   ]
  },
  {
   "cell_type": "code",
   "execution_count": 16,
   "metadata": {},
   "outputs": [],
   "source": [
    "#Taking input to test an image\n",
    "img1 = '15.jpg'\n",
    "clusters = 2\n",
    "dc = DominantColors(img1, clusters) \n",
    "colors1 = dc.dominantColors()"
   ]
  },
  {
   "cell_type": "code",
   "execution_count": 17,
   "metadata": {},
   "outputs": [
    {
     "data": {
      "text/plain": [
       "array([[196, 186, 154],\n",
       "       [143, 132, 102]])"
      ]
     },
     "execution_count": 17,
     "metadata": {},
     "output_type": "execute_result"
    }
   ],
   "source": [
    "colors1"
   ]
  },
  {
   "cell_type": "code",
   "execution_count": null,
   "metadata": {},
   "outputs": [],
   "source": []
  },
  {
   "cell_type": "markdown",
   "metadata": {},
   "source": [
    "# Code for filtering out images"
   ]
  },
  {
   "cell_type": "code",
   "execution_count": 18,
   "metadata": {},
   "outputs": [],
   "source": [
    "b = 10\n",
    "perc = 10\n",
    "R1, R2, G1, G2, B1, B2 = colors1[0][0], colors1[1][0], colors1[0][1], colors1[1][1], colors1[0][2], colors1[1][2]\n",
    "if ((R1 >= G1) & (R1 >= B1)):\n",
    "    a, c = R1/(100/perc), R2/(100/perc)\n",
    "    data1 = data[(data['R1']>=data['G1']) & (data['R1']>=data['B1'])]\n",
    "    data2 = data1[((data1['R1']>(R1-a)) & (data1['R1']<(R1+a)) & (data1['G1']>(G1-b)) & (data1['G1']<(G1+b)) & (data1['B1']>(B1-b)) & (data1['B1']<(B1+b)))\n",
    "                  |((data1['R2']>(R2-c)) & (data1['R2']<(R2+c)) & (data1['G2']>(G2-b)) & (data1['G2']<(G2+b)) & (data1['B2']>(B2-b)) & (data1['B2']<(B2+b)))\n",
    "                  |((data1['R1']>(R2-c)) & (data1['R1']<(R2+c)) & (data1['G1']>(G2-b)) & (data1['G1']<(G2+b)) & (data1['B1']>(B2-b)) & (data1['B1']<(B2+b)))\n",
    "                  |((data1['R2']>(R1-a)) & (data1['R2']<(R1+a)) & (data1['G2']>(G1-b)) & (data1['G2']<(G1+b)) & (data1['B2']>(B1-b)) & (data1['B2']<(B1+b)))]\n",
    "    \n",
    "elif (G1 >= R1 & G1 >= B1):\n",
    "    a, c = G1/(100/perc), G2/(100/perc)\n",
    "    data1 = data[(data['G1']>=data['R1']) & (data['G1']>=data['B1'])]\n",
    "    data2 = data1[((data1['R1']>(R1-b)) & (data1['R1']<(R1+b)) & (data1['G1']>(G1-a)) & (data1['G1']<(G1+a)) & (data1['B1']>(B1-b)) & (data1['B1']<(B1+b)))\n",
    "                  |((data1['R2']>(R2-b)) & (data1['R2']<(R2+b)) & (data1['G2']>(G2-c)) & (data1['G2']<(G2+c)) & (data1['B2']>(B2-b)) & (data1['B2']<(B2+b)))\n",
    "                  |((data1['R1']>(R2-b)) & (data1['R1']<(R2+b)) & (data1['G1']>(G2-c)) & (data1['G1']<(G2+c)) & (data1['B1']>(B2-b)) & (data1['B1']<(B2+b)))\n",
    "                  |((data1['R2']>(R1-b)) & (data1['R2']<(R1+b)) & (data1['G2']>(G1-a)) & (data1['G2']<(G1+a)) & (data1['B2']>(B1-b)) & (data1['B2']<(B1+b)))]\n",
    "    \n",
    "else:\n",
    "    a, c = colors1[0][2]/(100/perc), colors1[1][2]/(100/perc)\n",
    "    data1 = data[(data['B1']>=data['R1']) & (data['B1']>=data['G1'])]\n",
    "    data2 = data1[((data1['R1']>(R1-b)) & (data1['R1']<(R1+b)) & (data1['G1']>(G1-b)) & (data1['G1']<(G1+b)) & (data1['B1']>(B1-a)) & (data1['B1']<(B1+a)))\n",
    "                  |((data1['R2']>(R2-b)) & (data1['R2']<(R2+b)) & (data1['G2']>(G2-b)) & (data1['G2']<(G2+b)) & (data1['B2']>(B2-c)) & (data1['B2']<(B2+c)))\n",
    "                  |((data1['R1']>(R2-b)) & (data1['R1']<(R2+b)) & (data1['G1']>(G2-b)) & (data1['G1']<(G2+b)) & (data1['B1']>(B2-c)) & (data1['B1']<(B2+c)))\n",
    "                  |((data1['R2']>(R1-b)) & (data1['R2']<(R1+b)) & (data1['G2']>(G1-b)) & (data1['G2']<(G1+b)) & (data1['B2']>(B1-a)) & (data1['B2']<(B1+a)))]\n",
    "    "
   ]
  },
  {
   "cell_type": "code",
   "execution_count": 19,
   "metadata": {},
   "outputs": [
    {
     "data": {
      "text/html": [
       "<div>\n",
       "<style scoped>\n",
       "    .dataframe tbody tr th:only-of-type {\n",
       "        vertical-align: middle;\n",
       "    }\n",
       "\n",
       "    .dataframe tbody tr th {\n",
       "        vertical-align: top;\n",
       "    }\n",
       "\n",
       "    .dataframe thead th {\n",
       "        text-align: right;\n",
       "    }\n",
       "</style>\n",
       "<table border=\"1\" class=\"dataframe\">\n",
       "  <thead>\n",
       "    <tr style=\"text-align: right;\">\n",
       "      <th></th>\n",
       "      <th>Name</th>\n",
       "      <th>R1</th>\n",
       "      <th>G1</th>\n",
       "      <th>B1</th>\n",
       "      <th>R2</th>\n",
       "      <th>G2</th>\n",
       "      <th>B2</th>\n",
       "    </tr>\n",
       "  </thead>\n",
       "  <tbody>\n",
       "    <tr>\n",
       "      <th>42</th>\n",
       "      <td>13.jpg</td>\n",
       "      <td>96</td>\n",
       "      <td>90</td>\n",
       "      <td>77</td>\n",
       "      <td>131</td>\n",
       "      <td>127</td>\n",
       "      <td>111</td>\n",
       "    </tr>\n",
       "    <tr>\n",
       "      <th>44</th>\n",
       "      <td>15.jpg</td>\n",
       "      <td>196</td>\n",
       "      <td>186</td>\n",
       "      <td>154</td>\n",
       "      <td>143</td>\n",
       "      <td>132</td>\n",
       "      <td>102</td>\n",
       "    </tr>\n",
       "    <tr>\n",
       "      <th>60</th>\n",
       "      <td>2005 orignal.jpg</td>\n",
       "      <td>164</td>\n",
       "      <td>152</td>\n",
       "      <td>128</td>\n",
       "      <td>183</td>\n",
       "      <td>179</td>\n",
       "      <td>163</td>\n",
       "    </tr>\n",
       "    <tr>\n",
       "      <th>63</th>\n",
       "      <td>2007 edit.jpg</td>\n",
       "      <td>167</td>\n",
       "      <td>155</td>\n",
       "      <td>132</td>\n",
       "      <td>150</td>\n",
       "      <td>135</td>\n",
       "      <td>110</td>\n",
       "    </tr>\n",
       "    <tr>\n",
       "      <th>82</th>\n",
       "      <td>2016 orignal.jpg</td>\n",
       "      <td>188</td>\n",
       "      <td>156</td>\n",
       "      <td>116</td>\n",
       "      <td>213</td>\n",
       "      <td>189</td>\n",
       "      <td>161</td>\n",
       "    </tr>\n",
       "    <tr>\n",
       "      <th>112</th>\n",
       "      <td>2033 orignal.jpg</td>\n",
       "      <td>188</td>\n",
       "      <td>167</td>\n",
       "      <td>136</td>\n",
       "      <td>200</td>\n",
       "      <td>187</td>\n",
       "      <td>161</td>\n",
       "    </tr>\n",
       "    <tr>\n",
       "      <th>122</th>\n",
       "      <td>2040 orignal.jpg</td>\n",
       "      <td>189</td>\n",
       "      <td>180</td>\n",
       "      <td>160</td>\n",
       "      <td>172</td>\n",
       "      <td>157</td>\n",
       "      <td>133</td>\n",
       "    </tr>\n",
       "    <tr>\n",
       "      <th>126</th>\n",
       "      <td>2042 orignal.jpg</td>\n",
       "      <td>203</td>\n",
       "      <td>191</td>\n",
       "      <td>162</td>\n",
       "      <td>184</td>\n",
       "      <td>169</td>\n",
       "      <td>141</td>\n",
       "    </tr>\n",
       "    <tr>\n",
       "      <th>130</th>\n",
       "      <td>2044 orignal.jpg</td>\n",
       "      <td>149</td>\n",
       "      <td>125</td>\n",
       "      <td>96</td>\n",
       "      <td>176</td>\n",
       "      <td>154</td>\n",
       "      <td>125</td>\n",
       "    </tr>\n",
       "    <tr>\n",
       "      <th>138</th>\n",
       "      <td>2049 orignal.jpg</td>\n",
       "      <td>172</td>\n",
       "      <td>163</td>\n",
       "      <td>144</td>\n",
       "      <td>137</td>\n",
       "      <td>125</td>\n",
       "      <td>105</td>\n",
       "    </tr>\n",
       "    <tr>\n",
       "      <th>150</th>\n",
       "      <td>2055 orignal.jpg</td>\n",
       "      <td>141</td>\n",
       "      <td>129</td>\n",
       "      <td>95</td>\n",
       "      <td>100</td>\n",
       "      <td>85</td>\n",
       "      <td>56</td>\n",
       "    </tr>\n",
       "    <tr>\n",
       "      <th>155</th>\n",
       "      <td>2058 edit.jpg</td>\n",
       "      <td>208</td>\n",
       "      <td>195</td>\n",
       "      <td>155</td>\n",
       "      <td>222</td>\n",
       "      <td>211</td>\n",
       "      <td>171</td>\n",
       "    </tr>\n",
       "    <tr>\n",
       "      <th>161</th>\n",
       "      <td>21.jpg</td>\n",
       "      <td>195</td>\n",
       "      <td>188</td>\n",
       "      <td>153</td>\n",
       "      <td>150</td>\n",
       "      <td>142</td>\n",
       "      <td>111</td>\n",
       "    </tr>\n",
       "    <tr>\n",
       "      <th>165</th>\n",
       "      <td>25.jpg</td>\n",
       "      <td>138</td>\n",
       "      <td>128</td>\n",
       "      <td>95</td>\n",
       "      <td>199</td>\n",
       "      <td>188</td>\n",
       "      <td>148</td>\n",
       "    </tr>\n",
       "    <tr>\n",
       "      <th>188</th>\n",
       "      <td>5.jpg</td>\n",
       "      <td>100</td>\n",
       "      <td>30</td>\n",
       "      <td>8</td>\n",
       "      <td>156</td>\n",
       "      <td>127</td>\n",
       "      <td>106</td>\n",
       "    </tr>\n",
       "    <tr>\n",
       "      <th>199</th>\n",
       "      <td>6005 orignal.jpg</td>\n",
       "      <td>170</td>\n",
       "      <td>158</td>\n",
       "      <td>138</td>\n",
       "      <td>139</td>\n",
       "      <td>124</td>\n",
       "      <td>105</td>\n",
       "    </tr>\n",
       "    <tr>\n",
       "      <th>215</th>\n",
       "      <td>6013 orignal.jpg</td>\n",
       "      <td>182</td>\n",
       "      <td>179</td>\n",
       "      <td>163</td>\n",
       "      <td>162</td>\n",
       "      <td>159</td>\n",
       "      <td>143</td>\n",
       "    </tr>\n",
       "    <tr>\n",
       "      <th>227</th>\n",
       "      <td>6019 orignal.jpg</td>\n",
       "      <td>140</td>\n",
       "      <td>127</td>\n",
       "      <td>96</td>\n",
       "      <td>172</td>\n",
       "      <td>159</td>\n",
       "      <td>125</td>\n",
       "    </tr>\n",
       "  </tbody>\n",
       "</table>\n",
       "</div>"
      ],
      "text/plain": [
       "                 Name   R1   G1   B1   R2   G2   B2\n",
       "42             13.jpg   96   90   77  131  127  111\n",
       "44             15.jpg  196  186  154  143  132  102\n",
       "60   2005 orignal.jpg  164  152  128  183  179  163\n",
       "63      2007 edit.jpg  167  155  132  150  135  110\n",
       "82   2016 orignal.jpg  188  156  116  213  189  161\n",
       "112  2033 orignal.jpg  188  167  136  200  187  161\n",
       "122  2040 orignal.jpg  189  180  160  172  157  133\n",
       "126  2042 orignal.jpg  203  191  162  184  169  141\n",
       "130  2044 orignal.jpg  149  125   96  176  154  125\n",
       "138  2049 orignal.jpg  172  163  144  137  125  105\n",
       "150  2055 orignal.jpg  141  129   95  100   85   56\n",
       "155     2058 edit.jpg  208  195  155  222  211  171\n",
       "161            21.jpg  195  188  153  150  142  111\n",
       "165            25.jpg  138  128   95  199  188  148\n",
       "188             5.jpg  100   30    8  156  127  106\n",
       "199  6005 orignal.jpg  170  158  138  139  124  105\n",
       "215  6013 orignal.jpg  182  179  163  162  159  143\n",
       "227  6019 orignal.jpg  140  127   96  172  159  125"
      ]
     },
     "execution_count": 19,
     "metadata": {},
     "output_type": "execute_result"
    }
   ],
   "source": [
    "data2"
   ]
  },
  {
   "cell_type": "code",
   "execution_count": null,
   "metadata": {},
   "outputs": [],
   "source": []
  },
  {
   "cell_type": "code",
   "execution_count": 20,
   "metadata": {},
   "outputs": [
    {
     "data": {
      "text/plain": [
       "(18, 7)"
      ]
     },
     "execution_count": 20,
     "metadata": {},
     "output_type": "execute_result"
    }
   ],
   "source": [
    "data2.shape"
   ]
  },
  {
   "cell_type": "code",
   "execution_count": 21,
   "metadata": {},
   "outputs": [],
   "source": [
    "nam = data2.Name.tolist()"
   ]
  },
  {
   "cell_type": "markdown",
   "metadata": {},
   "source": [
    "# SIFT Technology to match pattern"
   ]
  },
  {
   "cell_type": "code",
   "execution_count": 24,
   "metadata": {},
   "outputs": [],
   "source": [
    "match = []\n",
    "img2 = cv2.imread(img1,cv2.COLOR_BGR2RGB)\n",
    "for i in range(len(nam)):\n",
    "    img3 = cv2.imread(nam[i],cv2.COLOR_BGR2RGB)\n",
    "    sift = cv2.xfeatures2d.SIFT_create()\n",
    "    keypoints_1, descriptors_1 = sift.detectAndCompute(img3,None)\n",
    "    keypoints_2, descriptors_2 = sift.detectAndCompute(img2,None)\n",
    "    if(keypoints_1 == 0 or keypoints_2 ==0 or descriptors_1 is None or descriptors_2 is None):\n",
    "        match.append(90)\n",
    "        continue\n",
    "    bf = cv2.BFMatcher(cv2.NORM_L1, crossCheck=True)\n",
    "    matches = bf.match(descriptors_1,descriptors_2)\n",
    "    matches = sorted(matches, key = lambda x:x.distance)\n",
    "    matching_perc = (2*len(matches))/(len(keypoints_1)+len(keypoints_2))\n",
    "    match.append(matching_perc*100)\n",
    "   "
   ]
  },
  {
   "cell_type": "code",
   "execution_count": 25,
   "metadata": {},
   "outputs": [
    {
     "data": {
      "text/plain": [
       "[0.8900190718372537,\n",
       " 100.0,\n",
       " 14.173228346456693,\n",
       " 34.04255319148936,\n",
       " 48.4375,\n",
       " 10.909090909090908,\n",
       " 31.272727272727273,\n",
       " 14.112903225806454,\n",
       " 9.876543209876543,\n",
       " 2.5848142164781907,\n",
       " 5.839416058394161,\n",
       " 15.139442231075698,\n",
       " 22.22222222222222,\n",
       " 21.92513368983957,\n",
       " 17.647058823529413,\n",
       " 2.1039209435766657,\n",
       " 3.4229828850855744,\n",
       " 1.0191846522781776]"
      ]
     },
     "execution_count": 25,
     "metadata": {},
     "output_type": "execute_result"
    }
   ],
   "source": [
    "match"
   ]
  },
  {
   "cell_type": "code",
   "execution_count": null,
   "metadata": {},
   "outputs": [],
   "source": []
  },
  {
   "cell_type": "code",
   "execution_count": 26,
   "metadata": {},
   "outputs": [],
   "source": [
    "length = len(nam)"
   ]
  },
  {
   "cell_type": "code",
   "execution_count": 27,
   "metadata": {},
   "outputs": [],
   "source": [
    "new_list = []\n",
    "match_perc = 20\n",
    "for i in range(length):\n",
    "    if(match[i]>match_perc):\n",
    "        new_list.append(nam[i])"
   ]
  },
  {
   "cell_type": "code",
   "execution_count": null,
   "metadata": {},
   "outputs": [],
   "source": []
  },
  {
   "cell_type": "code",
   "execution_count": 29,
   "metadata": {},
   "outputs": [
    {
     "data": {
      "image/png": "[encoded data removed]",
      "text/plain": [
       "<Figure size 720x5040 with 6 Axes>"
      ]
     },
     "metadata": {
      "needs_background": "light"
     },
     "output_type": "display_data"
    }
   ],
   "source": [
    "#Printing output images\n",
    "\n",
    "from matplotlib import pyplot as plt\n",
    "\n",
    "fig = plt.figure(figsize=(10, 70))\n",
    "rows = 20\n",
    "columns = 2\n",
    "if(len(new_list)>0):\n",
    "    for i in range(len(new_list)):\n",
    "        fig.add_subplot(rows, columns, i+1)\n",
    "        img2 = cv2.imread(new_list[i])\n",
    "        plt.imshow(cv2.cvtColor(img2, cv2.COLOR_BGR2RGB))\n",
    "        plt.axis('off')\n",
    "        plt.title(nam[i])\n",
    "else:\n",
    "    for i in range(len(nam)):\n",
    "        fig.add_subplot(rows, columns, i+1)\n",
    "        img2 = cv2.imread(nam[i])\n",
    "        plt.imshow(cv2.cvtColor(img2, cv2.COLOR_BGR2RGB))\n",
    "        plt.axis('off')\n",
    "        plt.title(nam[i])\n"
   ]
  },
  {
   "cell_type": "code",
   "execution_count": null,
   "metadata": {},
   "outputs": [],
   "source": []
  },
  {
   "cell_type": "code",
   "execution_count": null,
   "metadata": {},
   "outputs": [],
   "source": []
  }
 ],
 "metadata": {
  "kernelspec": {
   "display_name": "Python 3",
   "language": "python",
   "name": "python3"
  },
  "language_info": {
   "codemirror_mode": {
    "name": "ipython",
    "version": 3
   },
   "file_extension": ".py",
   "mimetype": "text/x-python",
   "name": "python",
   "nbconvert_exporter": "python",
   "pygments_lexer": "ipython3",
   "version": "3.7.3"
  }
 },
 "nbformat": 4,
 "nbformat_minor": 2
}
